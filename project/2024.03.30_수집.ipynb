{
 "cells": [
  {
   "cell_type": "code",
   "execution_count": 7,
   "metadata": {},
   "outputs": [],
   "source": [
    "import requests\n",
    "from bs4 import BeautifulSoup\n",
    "import json"
   ]
  },
  {
   "cell_type": "code",
   "execution_count": 9,
   "metadata": {},
   "outputs": [
    {
     "name": "stdout",
     "output_type": "stream",
     "text": [
      "{'Server': 'nginx', 'Content-Type': 'application/json', 'Content-Length': '379', 'X-RateLimit-Remaining': '149', 'X-RateLimit-Requested-Tokens': '1', 'X-RateLimit-Burst-Capacity': '150', 'X-RateLimit-Replenish-Rate': '150', 'Date': 'Sat, 30 Mar 2024 06:48:08 GMT', 'Connection': 'keep-alive'}\n"
     ]
    },
    {
     "data": {
      "text/plain": [
       "{'status': '0000',\n",
       " 'data': {'opening_price': '99690000',\n",
       "  'closing_price': '99809000',\n",
       "  'min_price': '99000000',\n",
       "  'max_price': '100169000',\n",
       "  'units_traded': '581.44897523',\n",
       "  'acc_trade_value': '57890953916.0463',\n",
       "  'prev_closing_price': '99690000',\n",
       "  'units_traded_24H': '1044.40368324',\n",
       "  'acc_trade_value_24H': '104123839174.5753',\n",
       "  'fluctate_24H': '-456000',\n",
       "  'fluctate_rate_24H': '-0.45',\n",
       "  'date': '1711781288159'}}"
      ]
     },
     "execution_count": 9,
     "metadata": {},
     "output_type": "execute_result"
    }
   ],
   "source": [
    "# 요청\n",
    "url = 'https://api.bithumb.com/public/ticker/BTC_KRW'\n",
    "response = requests.get(url)\n",
    "print(response.headers)\n",
    "\n",
    "# 응답\n",
    "text = response.text\n",
    "# 값\n",
    "data = json.loads(text)\n",
    "data"
   ]
  },
  {
   "cell_type": "code",
   "execution_count": 12,
   "metadata": {},
   "outputs": [
    {
     "data": {
      "text/plain": [
       "datetime.datetime(2024, 3, 30, 15, 48, 8, 159000)"
      ]
     },
     "execution_count": 12,
     "metadata": {},
     "output_type": "execute_result"
    }
   ],
   "source": [
    "import datetime\n",
    "\n",
    "timestamp = int(data['data']['date']) / 1000\n",
    "datetime.datetime.fromtimestamp(timestamp)"
   ]
  }
 ],
 "metadata": {
  "kernelspec": {
   "display_name": "base",
   "language": "python",
   "name": "python3"
  },
  "language_info": {
   "codemirror_mode": {
    "name": "ipython",
    "version": 3
   },
   "file_extension": ".py",
   "mimetype": "text/x-python",
   "name": "python",
   "nbconvert_exporter": "python",
   "pygments_lexer": "ipython3",
   "version": "3.11.5"
  }
 },
 "nbformat": 4,
 "nbformat_minor": 2
}
