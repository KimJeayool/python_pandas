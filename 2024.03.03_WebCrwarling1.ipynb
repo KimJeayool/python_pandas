{
 "cells": [
  {
   "cell_type": "code",
   "execution_count": 36,
   "metadata": {},
   "outputs": [],
   "source": [
    "# 모듈 Import\n",
    "import pandas as pd\n",
    "import requests\n",
    "from bs4 import BeautifulSoup\n",
    "from time import sleep"
   ]
  },
  {
   "cell_type": "code",
   "execution_count": 6,
   "metadata": {},
   "outputs": [
    {
     "name": "stdout",
     "output_type": "stream",
     "text": [
      "<class 'str'>\n",
      "<html lang=\"ko\">\n",
      "    <head>\n",
      "        <title>안재덕의 홈페이지</title>\n"
     ]
    }
   ],
   "source": [
    "# 웹 문서 불러오기\n",
    "file = open('html/index.html', encoding='utf-8')\n",
    "# 데이터 가져오기\n",
    "read = file.read()\n",
    "file.close()\n",
    "\n",
    "# 출력\n",
    "print(type(read))\n",
    "print(read[:60])"
   ]
  },
  {
   "cell_type": "code",
   "execution_count": 12,
   "metadata": {},
   "outputs": [
    {
     "name": "stdout",
     "output_type": "stream",
     "text": [
      "<class 'bs4.BeautifulSoup'>\n"
     ]
    },
    {
     "data": {
      "text/plain": [
       "<html lang=\"ko\">\n",
       "<head>\n",
       "<title>안재덕의 홈페이지</title>\n",
       "<meta charset=\"utf-8\"/>\n",
       "<style></style>\n",
       "</head>\n",
       "<body>\n",
       "        안녕하세요. <br/>\n",
       "        안재덕의 홈페이지에 오신 걸 환영합니다.\n",
       "        <ul> 내가 좋아하는 것들\n",
       "            <li>게임</li>\n",
       "<li>여행</li>\n",
       "<li>영화</li>\n",
       "</ul>\n",
       "<ul> 내가 싫어하는 것들\n",
       "            <li>잔소리</li>\n",
       "<li>청소</li>\n",
       "<li>정리</li>\n",
       "</ul>\n",
       "</body>\n",
       "</html>"
      ]
     },
     "execution_count": 12,
     "metadata": {},
     "output_type": "execute_result"
    }
   ],
   "source": [
    "# BeautifulSoup 인스턴스 생성\n",
    "html = BeautifulSoup(read, 'html.parser')\n",
    "# 출력\n",
    "print(type(html))\n",
    "html\n"
   ]
  },
  {
   "cell_type": "code",
   "execution_count": 18,
   "metadata": {},
   "outputs": [
    {
     "name": "stdout",
     "output_type": "stream",
     "text": [
      "<class 'bs4.element.Tag'>\n",
      "안재덕의 홈페이지\n"
     ]
    }
   ],
   "source": [
    "# 특정 태그(블록) 조회\n",
    "title = html.find('title')\n",
    "# 조회\n",
    "print(type(title))\n",
    "print(title.text)"
   ]
  },
  {
   "cell_type": "code",
   "execution_count": 25,
   "metadata": {},
   "outputs": [
    {
     "name": "stdout",
     "output_type": "stream",
     "text": [
      "<li>게임</li>\n",
      "['게임', '여행', '영화', '잔소리', '청소', '정리']\n"
     ]
    }
   ],
   "source": [
    "# 첫번째 li 추출\n",
    "li = html.find('li')\n",
    "print(li)\n",
    "\n",
    "# 모든 li 추출\n",
    "li_list = html.findAll('li')\n",
    "datas = []\n",
    "for li in li_list:\n",
    "    datas.append(li.text)\n",
    "print(datas)"
   ]
  },
  {
   "cell_type": "code",
   "execution_count": 39,
   "metadata": {},
   "outputs": [
    {
     "data": {
      "text/plain": [
       "[['게임', '여행', '영화'], ['잔소리', '청소', '정리']]"
      ]
     },
     "execution_count": 39,
     "metadata": {},
     "output_type": "execute_result"
    }
   ],
   "source": [
    "# ul 목록 추출\n",
    "ul_list = html.find_all('ul')\n",
    "\n",
    "# ul 추출\n",
    "rows = []\n",
    "for ul in ul_list:\n",
    "    # li 목록 추출\n",
    "    li_list = ul.find_all('li')\n",
    "    # li 추출\n",
    "    row = []\n",
    "    for li in li_list:\n",
    "        data = li.text\n",
    "        row.append(data)\n",
    "    # 결과 배열\n",
    "    rows.append(row)\n",
    "\n",
    "rows"
   ]
  },
  {
   "cell_type": "code",
   "execution_count": 54,
   "metadata": {},
   "outputs": [
    {
     "name": "stdout",
     "output_type": "stream",
     "text": [
      "[['hong', '홍길동', '23', '경기'], ['hwang', '황진이', '25', '서울'], ['dog', '멍멍이', '5', '제주'], ['cat', '야옹이', '3', '울릉']]\n"
     ]
    },
    {
     "data": {
      "text/html": [
       "<div>\n",
       "<style scoped>\n",
       "    .dataframe tbody tr th:only-of-type {\n",
       "        vertical-align: middle;\n",
       "    }\n",
       "\n",
       "    .dataframe tbody tr th {\n",
       "        vertical-align: top;\n",
       "    }\n",
       "\n",
       "    .dataframe thead th {\n",
       "        text-align: right;\n",
       "    }\n",
       "</style>\n",
       "<table border=\"1\" class=\"dataframe\">\n",
       "  <thead>\n",
       "    <tr style=\"text-align: right;\">\n",
       "      <th></th>\n",
       "      <th>name</th>\n",
       "      <th>age</th>\n",
       "      <th>addr</th>\n",
       "    </tr>\n",
       "    <tr>\n",
       "      <th>id</th>\n",
       "      <th></th>\n",
       "      <th></th>\n",
       "      <th></th>\n",
       "    </tr>\n",
       "  </thead>\n",
       "  <tbody>\n",
       "    <tr>\n",
       "      <th>hong</th>\n",
       "      <td>홍길동</td>\n",
       "      <td>23</td>\n",
       "      <td>경기</td>\n",
       "    </tr>\n",
       "    <tr>\n",
       "      <th>hwang</th>\n",
       "      <td>황진이</td>\n",
       "      <td>25</td>\n",
       "      <td>서울</td>\n",
       "    </tr>\n",
       "    <tr>\n",
       "      <th>dog</th>\n",
       "      <td>멍멍이</td>\n",
       "      <td>5</td>\n",
       "      <td>제주</td>\n",
       "    </tr>\n",
       "    <tr>\n",
       "      <th>cat</th>\n",
       "      <td>야옹이</td>\n",
       "      <td>3</td>\n",
       "      <td>울릉</td>\n",
       "    </tr>\n",
       "  </tbody>\n",
       "</table>\n",
       "</div>"
      ],
      "text/plain": [
       "      name age addr\n",
       "id                 \n",
       "hong   홍길동  23   경기\n",
       "hwang  황진이  25   서울\n",
       "dog    멍멍이   5   제주\n",
       "cat    야옹이   3   울릉"
      ]
     },
     "execution_count": 54,
     "metadata": {},
     "output_type": "execute_result"
    }
   ],
   "source": [
    "# html 파일 불러오기\n",
    "file = open('html/table.html', 'r', encoding='utf-8')\n",
    "read = file.read()\n",
    "file.close()\n",
    "\n",
    "# 타입 확인\n",
    "type(read)\n",
    "\n",
    "# html 객체 가져오기\n",
    "html = BeautifulSoup(read, 'html.parser')\n",
    "\n",
    "# tr 목록\n",
    "tr_list = html.find('tbody').find_all('tr')\n",
    "# tr 데이터\n",
    "rows = []\n",
    "for tr in tr_list:\n",
    "    # td 목록\n",
    "    td_list = tr.find_all('td')\n",
    "    row = []\n",
    "    for td in td_list:\n",
    "        # td 데이터\n",
    "        row.append(td.text)\n",
    "    # 결과 배열    \n",
    "    rows.append(row)\n",
    "# 결과 조회\n",
    "print(rows)\n",
    "\n",
    "# 데이터프레임 생성\n",
    "df = pd.DataFrame(rows, columns=['id', 'name', 'age', 'addr'])\n",
    "df.set_index('id', inplace=True)\n",
    "df"
   ]
  }
 ],
 "metadata": {
  "kernelspec": {
   "display_name": "base",
   "language": "python",
   "name": "python3"
  },
  "language_info": {
   "codemirror_mode": {
    "name": "ipython",
    "version": 3
   },
   "file_extension": ".py",
   "mimetype": "text/x-python",
   "name": "python",
   "nbconvert_exporter": "python",
   "pygments_lexer": "ipython3",
   "version": "3.11.5"
  }
 },
 "nbformat": 4,
 "nbformat_minor": 2
}
